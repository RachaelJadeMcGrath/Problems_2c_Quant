{
 "cells": [
  {
   "cell_type": "code",
   "execution_count": 2,
   "metadata": {},
   "outputs": [],
   "source": [
    "import pandas as pd\n",
    "pd.set_option('mode.copy_on_write', True)\n",
    "import numpy as np"
   ]
  },
  {
   "cell_type": "markdown",
   "metadata": {},
   "source": [
    "Create simulated patient data"
   ]
  },
  {
   "cell_type": "code",
   "execution_count": 3,
   "metadata": {},
   "outputs": [],
   "source": [
    "# Set random seed for reproducibility\n",
    "np.random.seed(42)\n",
    "\n",
    "# Initial number of patients\n",
    "n_patients = 1000\n",
    "\n",
    "# Creating initial pain scores from ethnographic data\n",
    "real_pain_scores = np.array([8,8,5,2])\n",
    "mean_pain_score = np.mean(real_pain_scores) \n",
    "std_dev_pain_score = np.std(real_pain_scores)\n",
    "initial_pain_scores = np.random.normal(std_dev_pain_score, mean_pain_score, n_patients).round().astype(int)\n",
    "initial_pain_scores = np.clip(initial_pain_scores, 1, 10)"
   ]
  },
  {
   "cell_type": "code",
   "execution_count": 4,
   "metadata": {},
   "outputs": [],
   "source": [
    "# Generate random ages for patients between 30 and 70\n",
    "ages = np.random.randint(30,70, size=n_patients) \n",
    "\n",
    "# Assign patients randomly to vr therapy or control group\n",
    "vr_therapy = np.random.choice([0,1], size=n_patients)"
   ]
  },
  {
   "cell_type": "code",
   "execution_count": 5,
   "metadata": {},
   "outputs": [],
   "source": [
    "# simulate standard of care variables \n",
    "prescription_pain_relief = np.random.choice(['yes', 'no'], size=n_patients)\n",
    "cbt = np.random.choice(['yes', 'no'], size=n_patients)\n",
    "support_group = np.random.choice(['yes', 'no'], size=n_patients)\n",
    "physiotherapy = np.random.choice(['yes', 'no'], size=n_patients)\n",
    "                                        \n",
    "                                             "
   ]
  },
  {
   "cell_type": "code",
   "execution_count": 10,
   "metadata": {},
   "outputs": [
    {
     "data": {
      "text/html": [
       "<div>\n",
       "<style scoped>\n",
       "    .dataframe tbody tr th:only-of-type {\n",
       "        vertical-align: middle;\n",
       "    }\n",
       "\n",
       "    .dataframe tbody tr th {\n",
       "        vertical-align: top;\n",
       "    }\n",
       "\n",
       "    .dataframe thead th {\n",
       "        text-align: right;\n",
       "    }\n",
       "</style>\n",
       "<table border=\"1\" class=\"dataframe\">\n",
       "  <thead>\n",
       "    <tr style=\"text-align: right;\">\n",
       "      <th></th>\n",
       "      <th>Age</th>\n",
       "      <th>Initial Pain Score</th>\n",
       "      <th>VR Therapy</th>\n",
       "      <th>Prescription Pain Relief</th>\n",
       "      <th>CBT</th>\n",
       "      <th>Support Group</th>\n",
       "      <th>Physiotherapy</th>\n",
       "      <th>Group</th>\n",
       "    </tr>\n",
       "  </thead>\n",
       "  <tbody>\n",
       "    <tr>\n",
       "      <th>0</th>\n",
       "      <td>69</td>\n",
       "      <td>5</td>\n",
       "      <td>0</td>\n",
       "      <td>yes</td>\n",
       "      <td>yes</td>\n",
       "      <td>yes</td>\n",
       "      <td>no</td>\n",
       "      <td>Control</td>\n",
       "    </tr>\n",
       "    <tr>\n",
       "      <th>1</th>\n",
       "      <td>40</td>\n",
       "      <td>2</td>\n",
       "      <td>0</td>\n",
       "      <td>no</td>\n",
       "      <td>yes</td>\n",
       "      <td>yes</td>\n",
       "      <td>no</td>\n",
       "      <td>Control</td>\n",
       "    </tr>\n",
       "    <tr>\n",
       "      <th>2</th>\n",
       "      <td>32</td>\n",
       "      <td>6</td>\n",
       "      <td>0</td>\n",
       "      <td>yes</td>\n",
       "      <td>no</td>\n",
       "      <td>no</td>\n",
       "      <td>no</td>\n",
       "      <td>Control</td>\n",
       "    </tr>\n",
       "    <tr>\n",
       "      <th>3</th>\n",
       "      <td>35</td>\n",
       "      <td>10</td>\n",
       "      <td>1</td>\n",
       "      <td>no</td>\n",
       "      <td>no</td>\n",
       "      <td>yes</td>\n",
       "      <td>no</td>\n",
       "      <td>VR Therapy</td>\n",
       "    </tr>\n",
       "    <tr>\n",
       "      <th>4</th>\n",
       "      <td>38</td>\n",
       "      <td>1</td>\n",
       "      <td>1</td>\n",
       "      <td>no</td>\n",
       "      <td>yes</td>\n",
       "      <td>yes</td>\n",
       "      <td>yes</td>\n",
       "      <td>VR Therapy</td>\n",
       "    </tr>\n",
       "  </tbody>\n",
       "</table>\n",
       "</div>"
      ],
      "text/plain": [
       "   Age  Initial Pain Score  VR Therapy Prescription Pain Relief  CBT  \\\n",
       "0   69                   5           0                      yes  yes   \n",
       "1   40                   2           0                       no  yes   \n",
       "2   32                   6           0                      yes   no   \n",
       "3   35                  10           1                       no   no   \n",
       "4   38                   1           1                       no  yes   \n",
       "\n",
       "  Support Group Physiotherapy       Group  \n",
       "0           yes            no     Control  \n",
       "1           yes            no     Control  \n",
       "2            no            no     Control  \n",
       "3           yes            no  VR Therapy  \n",
       "4           yes           yes  VR Therapy  "
      ]
     },
     "execution_count": 10,
     "metadata": {},
     "output_type": "execute_result"
    }
   ],
   "source": [
    "# create a dataframe for our simulated patient data\n",
    "data = {\n",
    "    'Age': ages,\n",
    "    'Initial Pain Score': initial_pain_scores,\n",
    "    'VR Therapy': vr_therapy,\n",
    "    'Prescription Pain Relief': prescription_pain_relief,\n",
    "    'CBT': cbt,\n",
    "    'Support Group': support_group,\n",
    "    'Physiotherapy': physiotherapy,\n",
    "    'Group': ['VR Therapy' if i == 1 else 'Control' for i in vr_therapy]\n",
    "}\n",
    "\n",
    "patient_df = pd.DataFrame(data)\n",
    "\n",
    "# df.to_pickle('simulated_clinical_trial_data.pkl')\n",
    "\n",
    "# Check the first few rowss\n",
    "patient_df.head()"
   ]
  },
  {
   "cell_type": "code",
   "execution_count": 11,
   "metadata": {},
   "outputs": [
    {
     "data": {
      "text/plain": [
       "VR Therapy\n",
       "0    518\n",
       "1    482\n",
       "Name: count, dtype: int64"
      ]
     },
     "execution_count": 11,
     "metadata": {},
     "output_type": "execute_result"
    }
   ],
   "source": [
    "vr_therapy_counts = patient_df['VR Therapy'].value_counts()\n",
    "vr_therapy_counts"
   ]
  },
  {
   "cell_type": "markdown",
   "metadata": {},
   "source": [
    "### Estimating VR Effect Size ###\n",
    "The ethnographic anonymous data provides four patients pain scores before and after trialing a 7 minute 'self care' immersive VR therapy. I'll compute the differences between the pain scores before and after the VR session for each patient, calculate the mean and standard deviation of these differences and use this to calculate Cohen's d (the mean difference divided by the standard deviation of the differences) to determine a reasonable estimate for effect size. "
   ]
  },
  {
   "cell_type": "code",
   "execution_count": 12,
   "metadata": {},
   "outputs": [],
   "source": [
    "from statsmodels.stats.power import TTestIndPower"
   ]
  },
  {
   "cell_type": "code",
   "execution_count": 14,
   "metadata": {},
   "outputs": [
    {
     "name": "stdout",
     "output_type": "stream",
     "text": [
      "Mean Difference: 3.0\n",
      "Standard Deviation of Differences: 3.1622776601683795\n",
      "Effect Size: 0.9486832980505138\n"
     ]
    }
   ],
   "source": [
    "# Determining effect size from ethnographic data\n",
    "pain_before = np.array([8,8,5,2])\n",
    "pain_after = np.array([4,1,5,1]) \n",
    "\n",
    "# Calculate the differences in scores\n",
    "pain_differences = pain_before - pain_after\n",
    "\n",
    "# Calculate the mean and standard deviation of the differences\n",
    "mean_difference = np.mean(pain_differences)\n",
    "std_dev_difference = np.std(pain_differences, ddof=1) # numpy advice to provide an unbiased estimator of the variance of the infinite population\n",
    "\n",
    "# Calculate the effect size\n",
    "effect_size = mean_difference / std_dev_difference\n",
    "\n",
    "# Print results\n",
    "print(f\"Mean Difference: {mean_difference}\")\n",
    "print(f\"Standard Deviation of Differences: {std_dev_difference}\")\n",
    "print(f\"Effect Size: {effect_size}\")"
   ]
  },
  {
   "cell_type": "code",
   "execution_count": 62,
   "metadata": {},
   "outputs": [
    {
     "name": "stdout",
     "output_type": "stream",
     "text": [
      "[4 7 0 1]\n"
     ]
    }
   ],
   "source": [
    "print(pain_differences)"
   ]
  },
  {
   "cell_type": "code",
   "execution_count": null,
   "metadata": {},
   "outputs": [],
   "source": [
    "print()"
   ]
  },
  {
   "cell_type": "markdown",
   "metadata": {},
   "source": [
    "So this is a pretty large effect and based on a TINY sample (95% difference after VR therapy)... not sure this is realistic? Speak to Matthew"
   ]
  },
  {
   "cell_type": "code",
   "execution_count": 15,
   "metadata": {},
   "outputs": [
    {
     "name": "stdout",
     "output_type": "stream",
     "text": [
      "Required sample size per group: 19\n"
     ]
    }
   ],
   "source": [
    "# Investigating sample size with an effect of 95% and a power of 80%\n",
    "\n",
    "# Parameters for power analysis\n",
    "effect_size = 0.95  # effect size based on ethnographic data\n",
    "alpha = 0.05  # The common threshold for significance level\n",
    "power = 0.80  # Desired power aka probability of correctly identifying an effect when there is one 80% of the time - also a medical standard to miss an effect 20% is OK\n",
    "\n",
    "# Perform power analysis\n",
    "analysis = TTestIndPower()\n",
    "sample_size = analysis.solve_power(effect_size=effect_size, alpha=alpha, power=power, ratio=1.0)\n",
    "\n",
    "# Print the required sample size\n",
    "print(f\"Required sample size per group: {int(np.ceil(sample_size))}\")\n"
   ]
  },
  {
   "cell_type": "markdown",
   "metadata": {},
   "source": [
    "# Let's simulate a trial #"
   ]
  },
  {
   "cell_type": "markdown",
   "metadata": {},
   "source": [
    "### First we need to set some parameters for our trial simulation, including, defining the following variables: ###\n",
    "- Number of patients per group: this is pulled from our earlier power calculation \n",
    "- Initial pain scores (mean): derived from the mean pain score from ethnographic data\n",
    "- Initial pain scores (std.dev): derived from the std_dev of pain scores from ethnographic data\n",
    "- Number of simulations: how many times we want to run the trial \n",
    "\n",
    "### We also need to define and take account of (and can adjust) the expected pain reduction from each SOC care treatment ###\n",
    "- CBT \n",
    "- Physio \n",
    "- Pain relief \n",
    "- Support group"
   ]
  },
  {
   "cell_type": "code",
   "execution_count": 30,
   "metadata": {},
   "outputs": [],
   "source": [
    "\n",
    "# Setting parameters for trial simulation\n",
    "n_patients_per_group = 19\n",
    "mean_initial_pain = 5.75 # mean pain score from ethnographic data\n",
    "std_dev_initial_pain = 3.20 # standard deviation of pain scores from ethnographic data\n",
    "effect_size = 0.95 # effect size from ethnographic data\n",
    "n_simulations = 1000\n",
    "\n",
    "# Estimated average pain reduction for each SOC treatment - check with matthew \n",
    "pain_reduction_CBT = 1.0\n",
    "pain_reduction_physiotherapy = 0.8\n",
    "pain_reduction_prescription = 1.5\n",
    "pain_reduction_support_group = 0.5\n"
   ]
  },
  {
   "cell_type": "markdown",
   "metadata": {},
   "source": [
    "### Next I'll write a function to simulate one trial ###"
   ]
  },
  {
   "cell_type": "code",
   "execution_count": 51,
   "metadata": {},
   "outputs": [],
   "source": [
    "\n",
    "\n",
    "def simulate_trial(n_patients, mean_pain, std_dev, effect_size):\n",
    "    # Generate initial pain scores\n",
    "    initial_pain_scores = np.random.normal(mean_pain, std_dev, n_patients * 2).round().astype(int)\n",
    "    initial_pain_scores = np.clip(initial_pain_scores, 1, 10)\n",
    "    # print(\"Initial Pain Scores:\", initial_pain_scores)\n",
    "    \n",
    "    # Assign SOC treatments\n",
    "    CBT = np.random.choice([0, 1], size=n_patients * 2)\n",
    "    physiotherapy = np.random.choice([0, 1], size=n_patients * 2)\n",
    "    prescription = np.random.choice([0, 1], size=n_patients * 2)\n",
    "    support_group = np.random.choice([0, 1], size=n_patients * 2)\n",
    "    # print(\"SOC Treatments Assigned (CBT, Physiotherapy, Prescription, Support Group):\", CBT, physiotherapy, prescription, support_group)\n",
    "    \n",
    "    # Calculate SOC effect\n",
    "    SOC_effect = (CBT * pain_reduction_CBT +\n",
    "                  physiotherapy * pain_reduction_physiotherapy +\n",
    "                  prescription * pain_reduction_prescription +\n",
    "                  support_group * pain_reduction_support_group)\n",
    "    # print(\"SOC Effect:\", SOC_effect)\n",
    "    \n",
    "    # Apply SOC effect to initial pain scores\n",
    "    adjusted_pain_scores = initial_pain_scores - SOC_effect\n",
    "    adjusted_pain_scores = np.clip(adjusted_pain_scores, 1, 10)\n",
    "#   print(\"Adjusted Pain Scores:\", adjusted_pain_scores)\n",
    "    \n",
    "    # Ensure the length of adjusted_pain_scores is correct\n",
    "    if len(adjusted_pain_scores) != n_patients * 2:\n",
    "        # print(\"Error: Length of adjusted_pain_scores is not equal to expected size.\")\n",
    "        return [], []\n",
    "\n",
    "    # Split into control and experimental groups\n",
    "    control_group = adjusted_pain_scores[:n_patients]\n",
    "    experimental_group = adjusted_pain_scores[n_patients:]\n",
    "    # print(\"Control Group Pain Scores:\", control_group)\n",
    "    # print(\"Experimental Group Pain Scores:\", experimental_group)\n",
    "    \n",
    "    # Apply VR therapy effect to the experimental group\n",
    "    experimental_group -= int(effect_size * std_dev)\n",
    "    experimental_group = np.clip(experimental_group, 1, 10)\n",
    "    # print(\"Final Experimental Group Pain Scores:\", experimental_group)\n",
    "    \n",
    "    return control_group, experimental_group\n"
   ]
  },
  {
   "cell_type": "code",
   "execution_count": 52,
   "metadata": {},
   "outputs": [
    {
     "name": "stdout",
     "output_type": "stream",
     "text": [
      "Control group final pain scores: [2.  1.3 6.5 1.5 1.  1.  5.  6.8 1.  7.5 4.3 1.  3.2 2.5 1.  1.  4.3 5.2\n",
      " 1. ]\n",
      "Experimental group final pain scores: [1.  1.  1.  2.8 4.3 1.  1.  3.5 4.5 3.  1.  1.  6.  1.  1.  4.8 1.  1.\n",
      " 2.7]\n"
     ]
    }
   ],
   "source": [
    "# test the function works\n",
    "\n",
    "control, experimental = simulate_trial(n_patients_per_group, mean_initial_pain, std_dev_initial_pain, effect_size)\n",
    "print(\"Control group final pain scores:\", control)\n",
    "print(\"Experimental group final pain scores:\", experimental)    "
   ]
  },
  {
   "cell_type": "markdown",
   "metadata": {},
   "source": [
    "## definitions of variables ##\n",
    "- mean_control: the mean pain score for the control group in each simulation \n",
    "- mean_experimental: the mean pain score for the experimental group in each simulation\n",
    "- mean_difference: the difference between the mean pain scores of experimental and control groups in each simulation"
   ]
  },
  {
   "cell_type": "code",
   "execution_count": 64,
   "metadata": {},
   "outputs": [
    {
     "name": "stdout",
     "output_type": "stream",
     "text": [
      "   Mean_Control  Mean_Experimental  Mean_Difference\n",
      "0      4.078947           1.857895         2.221053\n",
      "1      3.531579           2.189474         1.342105\n",
      "2      3.468421           2.389474         1.078947\n",
      "3      4.910526           2.247368         2.663158\n",
      "4      4.242105           1.942105         2.300000\n"
     ]
    }
   ],
   "source": [
    "# Simulate multiple trials\n",
    "np.random.seed(42)\n",
    "\n",
    "# Create an empty list to store trial results\n",
    "results = []\n",
    "for i in range(n_simulations):\n",
    "    control, experimental = simulate_trial(n_patients_per_group, mean_initial_pain, std_dev_initial_pain, effect_size)\n",
    "    mean_control = np.mean(control)\n",
    "    mean_experimental = np.mean(experimental)\n",
    "    mean_difference = mean_control - mean_experimental  # Control - Experimental to measure reduction in pain?\n",
    "    results.append((mean_control, mean_experimental, mean_difference))\n",
    "\n",
    "# Convert results to DataFrame\n",
    "results_df = pd.DataFrame(results, columns=['Mean_Control', 'Mean_Experimental', 'Mean_Difference'])\n",
    "print(results_df.head())"
   ]
  },
  {
   "cell_type": "code",
   "execution_count": 65,
   "metadata": {},
   "outputs": [
    {
     "data": {
      "text/html": [
       "<div>\n",
       "<style scoped>\n",
       "    .dataframe tbody tr th:only-of-type {\n",
       "        vertical-align: middle;\n",
       "    }\n",
       "\n",
       "    .dataframe tbody tr th {\n",
       "        vertical-align: top;\n",
       "    }\n",
       "\n",
       "    .dataframe thead th {\n",
       "        text-align: right;\n",
       "    }\n",
       "</style>\n",
       "<table border=\"1\" class=\"dataframe\">\n",
       "  <thead>\n",
       "    <tr style=\"text-align: right;\">\n",
       "      <th></th>\n",
       "      <th>Mean_Control</th>\n",
       "      <th>Mean_Experimental</th>\n",
       "      <th>Mean_Difference</th>\n",
       "    </tr>\n",
       "  </thead>\n",
       "  <tbody>\n",
       "    <tr>\n",
       "      <th>0</th>\n",
       "      <td>4.078947</td>\n",
       "      <td>1.857895</td>\n",
       "      <td>2.221053</td>\n",
       "    </tr>\n",
       "    <tr>\n",
       "      <th>1</th>\n",
       "      <td>3.531579</td>\n",
       "      <td>2.189474</td>\n",
       "      <td>1.342105</td>\n",
       "    </tr>\n",
       "    <tr>\n",
       "      <th>2</th>\n",
       "      <td>3.468421</td>\n",
       "      <td>2.389474</td>\n",
       "      <td>1.078947</td>\n",
       "    </tr>\n",
       "    <tr>\n",
       "      <th>3</th>\n",
       "      <td>4.910526</td>\n",
       "      <td>2.247368</td>\n",
       "      <td>2.663158</td>\n",
       "    </tr>\n",
       "    <tr>\n",
       "      <th>4</th>\n",
       "      <td>4.242105</td>\n",
       "      <td>1.942105</td>\n",
       "      <td>2.300000</td>\n",
       "    </tr>\n",
       "    <tr>\n",
       "      <th>...</th>\n",
       "      <td>...</td>\n",
       "      <td>...</td>\n",
       "      <td>...</td>\n",
       "    </tr>\n",
       "    <tr>\n",
       "      <th>995</th>\n",
       "      <td>4.131579</td>\n",
       "      <td>2.110526</td>\n",
       "      <td>2.021053</td>\n",
       "    </tr>\n",
       "    <tr>\n",
       "      <th>996</th>\n",
       "      <td>4.110526</td>\n",
       "      <td>2.405263</td>\n",
       "      <td>1.705263</td>\n",
       "    </tr>\n",
       "    <tr>\n",
       "      <th>997</th>\n",
       "      <td>4.573684</td>\n",
       "      <td>2.136842</td>\n",
       "      <td>2.436842</td>\n",
       "    </tr>\n",
       "    <tr>\n",
       "      <th>998</th>\n",
       "      <td>4.010526</td>\n",
       "      <td>2.152632</td>\n",
       "      <td>1.857895</td>\n",
       "    </tr>\n",
       "    <tr>\n",
       "      <th>999</th>\n",
       "      <td>4.489474</td>\n",
       "      <td>2.268421</td>\n",
       "      <td>2.221053</td>\n",
       "    </tr>\n",
       "  </tbody>\n",
       "</table>\n",
       "<p>1000 rows × 3 columns</p>\n",
       "</div>"
      ],
      "text/plain": [
       "     Mean_Control  Mean_Experimental  Mean_Difference\n",
       "0        4.078947           1.857895         2.221053\n",
       "1        3.531579           2.189474         1.342105\n",
       "2        3.468421           2.389474         1.078947\n",
       "3        4.910526           2.247368         2.663158\n",
       "4        4.242105           1.942105         2.300000\n",
       "..            ...                ...              ...\n",
       "995      4.131579           2.110526         2.021053\n",
       "996      4.110526           2.405263         1.705263\n",
       "997      4.573684           2.136842         2.436842\n",
       "998      4.010526           2.152632         1.857895\n",
       "999      4.489474           2.268421         2.221053\n",
       "\n",
       "[1000 rows x 3 columns]"
      ]
     },
     "execution_count": 65,
     "metadata": {},
     "output_type": "execute_result"
    }
   ],
   "source": [
    "results_df"
   ]
  },
  {
   "cell_type": "code",
   "execution_count": 66,
   "metadata": {},
   "outputs": [
    {
     "name": "stdout",
     "output_type": "stream",
     "text": [
      "       Mean_Control  Mean_Experimental  Mean_Difference\n",
      "count   1000.000000        1000.000000      1000.000000\n",
      "mean       4.218232           2.198711         2.019521\n",
      "std        0.597938           0.378628         0.719061\n",
      "min        2.473684           1.221053        -0.526316\n",
      "25%        3.809211           1.926316         1.515789\n",
      "50%        4.215789           2.200000         2.021053\n",
      "75%        4.610526           2.436842         2.506579\n",
      "max        6.236842           3.578947         4.010526\n"
     ]
    }
   ],
   "source": [
    "# Calculate summary statistics\n",
    "summary_stats = results_df.describe()\n",
    "print(summary_stats)"
   ]
  },
  {
   "cell_type": "code",
   "execution_count": 67,
   "metadata": {},
   "outputs": [
    {
     "name": "stdout",
     "output_type": "stream",
     "text": [
      "Number of effective trials: 999\n"
     ]
    }
   ],
   "source": [
    "# Calculate the number of trials where VR therapy was effective\n",
    "n_effective_trials = results_df[results_df['Mean_Difference'] > 0].shape[0]\n",
    "n_trials = results_df.shape[0]  \n",
    "print(f\"Number of effective trials: {n_effective_trials}\")"
   ]
  },
  {
   "cell_type": "markdown",
   "metadata": {},
   "source": [
    " ### Permutation testing ###"
   ]
  },
  {
   "cell_type": "code",
   "execution_count": 77,
   "metadata": {},
   "outputs": [
    {
     "name": "stdout",
     "output_type": "stream",
     "text": [
      "Observed Difference in Means: -2.221052631578948\n",
      "p-value: 0.0028\n"
     ]
    }
   ],
   "source": [
    "# Calculate observed difference in means between experimental and control groups\n",
    "observed_diff = np.mean(experimental) - np.mean(control)  \n",
    "print(f\"Observed Difference in Means: {observed_diff}\")\n",
    "\n",
    "# Combine data \n",
    "combined = np.concatenate([control, experimental])\n",
    "\n",
    "# Number of permutations \n",
    "n_permutations = 10000\n",
    "\n",
    "# Create an empty array to store permutation results\n",
    "perm_diffs = np.zeros(n_permutations)\n",
    "\n",
    "# Permutation test\n",
    "for i in range(n_permutations):\n",
    "    np.random.shuffle(combined)\n",
    "    new_control = combined[:len(control)]\n",
    "    new_experimental = combined[len(control):]\n",
    "    permuted_diff = np.mean(new_control) - np.mean(new_experimental)  # Control - Experimental\n",
    "    perm_diffs[i] = permuted_diff\n",
    "\n",
    "\n",
    "# Calculate the p-value\n",
    "p_value = np.sum(np.abs(perm_diffs) >= np.abs(observed_diff)) / n_permutations\n",
    "print(f\"p-value: {p_value}\")\n"
   ]
  },
  {
   "cell_type": "code",
   "execution_count": null,
   "metadata": {},
   "outputs": [],
   "source": []
  }
 ],
 "metadata": {
  "kernelspec": {
   "display_name": "Python 3",
   "language": "python",
   "name": "python3"
  },
  "language_info": {
   "codemirror_mode": {
    "name": "ipython",
    "version": 3
   },
   "file_extension": ".py",
   "mimetype": "text/x-python",
   "name": "python",
   "nbconvert_exporter": "python",
   "pygments_lexer": "ipython3",
   "version": "3.9.6"
  }
 },
 "nbformat": 4,
 "nbformat_minor": 2
}
