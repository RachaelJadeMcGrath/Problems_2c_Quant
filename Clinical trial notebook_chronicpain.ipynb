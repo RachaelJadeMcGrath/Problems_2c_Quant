{
 "cells": [
  {
   "cell_type": "code",
   "execution_count": 7,
   "metadata": {},
   "outputs": [],
   "source": [
    "import pandas as pd\n",
    "pd.set_option('mode.copy_on_write', True)\n",
    "import numpy as np"
   ]
  },
  {
   "cell_type": "markdown",
   "metadata": {},
   "source": [
    "Create simulated patient data"
   ]
  },
  {
   "cell_type": "code",
   "execution_count": 72,
   "metadata": {},
   "outputs": [],
   "source": [
    "# Set random seed for reproducibility\n",
    "np.random.seed(42)\n",
    "\n",
    "# Initial number of patients\n",
    "n_patients = 1000"
   ]
  },
  {
   "cell_type": "code",
   "execution_count": 75,
   "metadata": {},
   "outputs": [],
   "source": [
    "# Creating initial pain scores from ethnographic data\n",
    "real_pain_scores = np.array([8,8,5,2])\n",
    "mean_pain_score = np.mean(real_pain_scores) \n",
    "std_dev_pain_score = np.std(real_pain_scores)\n",
    "initial_pain_scores = np.random.normal(std_dev_pain_score, mean_pain_score, n_patients).round().astype(int)\n",
    "initial_pain_scores = np.clip(initial_pain_scores, 1, 10)"
   ]
  },
  {
   "cell_type": "code",
   "execution_count": 76,
   "metadata": {},
   "outputs": [],
   "source": [
    "# Generate random ages for patients between 30 and 70\n",
    "ages = np.random.randint(30,70, size=n_patients) \n",
    "\n",
    "# Assign patients randomly to vr therapy or control group\n",
    "vr_therapy = np.random.choice([0,1], size=n_patients)"
   ]
  },
  {
   "cell_type": "code",
   "execution_count": 78,
   "metadata": {},
   "outputs": [],
   "source": [
    "# simulate standard of care variables \n",
    "prescription_pain_relief = np.random.choice(['yes', 'no'], size=n_patients)\n",
    "cbt = np.random.choice(['yes', 'no'], size=n_patients)\n",
    "support_group = np.random.choice(['yes', 'no'], size=n_patients)\n",
    "physiotherapy = np.random.choice(['yes', 'no'], size=n_patients)\n",
    "                                        \n",
    "                                             "
   ]
  },
  {
   "cell_type": "code",
   "execution_count": 79,
   "metadata": {},
   "outputs": [
    {
     "data": {
      "text/html": [
       "<div>\n",
       "<style scoped>\n",
       "    .dataframe tbody tr th:only-of-type {\n",
       "        vertical-align: middle;\n",
       "    }\n",
       "\n",
       "    .dataframe tbody tr th {\n",
       "        vertical-align: top;\n",
       "    }\n",
       "\n",
       "    .dataframe thead th {\n",
       "        text-align: right;\n",
       "    }\n",
       "</style>\n",
       "<table border=\"1\" class=\"dataframe\">\n",
       "  <thead>\n",
       "    <tr style=\"text-align: right;\">\n",
       "      <th></th>\n",
       "      <th>Age</th>\n",
       "      <th>Initial Pain Score</th>\n",
       "      <th>VR Therapy</th>\n",
       "      <th>Prescription Pain Relief</th>\n",
       "      <th>CBT</th>\n",
       "      <th>Support Group</th>\n",
       "      <th>Physiotherapy</th>\n",
       "      <th>Group</th>\n",
       "      <th>Diagnosis</th>\n",
       "    </tr>\n",
       "  </thead>\n",
       "  <tbody>\n",
       "    <tr>\n",
       "      <th>0</th>\n",
       "      <td>69</td>\n",
       "      <td>5</td>\n",
       "      <td>0</td>\n",
       "      <td>no</td>\n",
       "      <td>yes</td>\n",
       "      <td>no</td>\n",
       "      <td>no</td>\n",
       "      <td>Control</td>\n",
       "      <td>Chronic Back Pain</td>\n",
       "    </tr>\n",
       "    <tr>\n",
       "      <th>1</th>\n",
       "      <td>40</td>\n",
       "      <td>2</td>\n",
       "      <td>0</td>\n",
       "      <td>no</td>\n",
       "      <td>no</td>\n",
       "      <td>no</td>\n",
       "      <td>no</td>\n",
       "      <td>Control</td>\n",
       "      <td>Chronic Back Pain</td>\n",
       "    </tr>\n",
       "    <tr>\n",
       "      <th>2</th>\n",
       "      <td>32</td>\n",
       "      <td>6</td>\n",
       "      <td>0</td>\n",
       "      <td>yes</td>\n",
       "      <td>no</td>\n",
       "      <td>yes</td>\n",
       "      <td>yes</td>\n",
       "      <td>Control</td>\n",
       "      <td>Chronic Back Pain</td>\n",
       "    </tr>\n",
       "    <tr>\n",
       "      <th>3</th>\n",
       "      <td>35</td>\n",
       "      <td>10</td>\n",
       "      <td>1</td>\n",
       "      <td>no</td>\n",
       "      <td>no</td>\n",
       "      <td>yes</td>\n",
       "      <td>yes</td>\n",
       "      <td>VR Therapy</td>\n",
       "      <td>Chronic Back Pain</td>\n",
       "    </tr>\n",
       "    <tr>\n",
       "      <th>4</th>\n",
       "      <td>38</td>\n",
       "      <td>1</td>\n",
       "      <td>1</td>\n",
       "      <td>yes</td>\n",
       "      <td>yes</td>\n",
       "      <td>yes</td>\n",
       "      <td>yes</td>\n",
       "      <td>VR Therapy</td>\n",
       "      <td>Chronic Back Pain</td>\n",
       "    </tr>\n",
       "  </tbody>\n",
       "</table>\n",
       "</div>"
      ],
      "text/plain": [
       "   Age  Initial Pain Score  VR Therapy Prescription Pain Relief  CBT  \\\n",
       "0   69                   5           0                       no  yes   \n",
       "1   40                   2           0                       no   no   \n",
       "2   32                   6           0                      yes   no   \n",
       "3   35                  10           1                       no   no   \n",
       "4   38                   1           1                      yes  yes   \n",
       "\n",
       "  Support Group Physiotherapy       Group          Diagnosis  \n",
       "0            no            no     Control  Chronic Back Pain  \n",
       "1            no            no     Control  Chronic Back Pain  \n",
       "2           yes           yes     Control  Chronic Back Pain  \n",
       "3           yes           yes  VR Therapy  Chronic Back Pain  \n",
       "4           yes           yes  VR Therapy  Chronic Back Pain  "
      ]
     },
     "execution_count": 79,
     "metadata": {},
     "output_type": "execute_result"
    }
   ],
   "source": [
    "# create a dataframe for our simulated trial data\n",
    "data = {\n",
    "    'Age': ages,\n",
    "    'Initial Pain Score': initial_pain_scores,\n",
    "    'VR Therapy': vr_therapy,\n",
    "    'Prescription Pain Relief': prescription_pain_relief,\n",
    "    'CBT': cbt,\n",
    "    'Support Group': support_group,\n",
    "    'Physiotherapy': physiotherapy,\n",
    "    'Group': ['VR Therapy' if i == 1 else 'Control' for i in vr_therapy],   \n",
    "    'Diagnosis': ['Chronic Back Pain'] * n_patients\n",
    "}\n",
    "\n",
    "patient_df = pd.DataFrame(data)\n",
    "\n",
    "# df.to_pickle('simulated_clinical_trial_data.pkl')\n",
    "\n",
    "# Check the first few rowss\n",
    "patient_df.head()"
   ]
  },
  {
   "cell_type": "code",
   "execution_count": 80,
   "metadata": {},
   "outputs": [
    {
     "data": {
      "text/plain": [
       "VR Therapy\n",
       "0    518\n",
       "1    482\n",
       "Name: count, dtype: int64"
      ]
     },
     "execution_count": 80,
     "metadata": {},
     "output_type": "execute_result"
    }
   ],
   "source": [
    "vr_therapy_counts = patient_df['VR Therapy'].value_counts()\n",
    "vr_therapy_counts"
   ]
  },
  {
   "cell_type": "markdown",
   "metadata": {},
   "source": [
    "### Estimating VR Effect Size ###\n",
    "The ethnographic anonymous data provides four patients pain scores before and after trialing a 7 minute 'self care' immersive VR therapy. I'll compute the differences between the pain scores before and after the VR session for each patient, calculate the mean and standard deviation of these differences and use this to calculate Cohen's d (the mean difference divided by the standard deviation of the differences) to determine a reasonable estimate for effect size. "
   ]
  },
  {
   "cell_type": "code",
   "execution_count": 29,
   "metadata": {},
   "outputs": [],
   "source": [
    "from statsmodels.stats.power import TTestIndPower"
   ]
  },
  {
   "cell_type": "code",
   "execution_count": 33,
   "metadata": {},
   "outputs": [
    {
     "name": "stdout",
     "output_type": "stream",
     "text": [
      "Mean Difference: 3.0\n",
      "Standard Deviation of Differences: 3.1622776601683795\n",
      "Effect Size: 0.9486832980505138\n"
     ]
    }
   ],
   "source": [
    "# Determining effect size from ethnographic data\n",
    "pain_before = np.array([8,8,5,2])\n",
    "pain_after = np.array([4,1,5,1]) \n",
    "\n",
    "# Calculate the differences in scores\n",
    "pain_differences = pain_before - pain_after\n",
    "\n",
    "# Calculate the mean and standard deviation of the differences\n",
    "mean_difference = np.mean(pain_differences)\n",
    "std_dev_difference = np.std(pain_differences, ddof=1) # numpy advice to provide an unbiased estimator of the variance of the infinite population\n",
    "\n",
    "# Calculate the effect size\n",
    "effect_size = mean_difference / std_dev_difference\n",
    "\n",
    "# Print results\n",
    "print(f\"Mean Difference: {mean_difference}\")\n",
    "print(f\"Standard Deviation of Differences: {std_dev_difference}\")\n",
    "print(f\"Effect Size: {effect_size}\")"
   ]
  },
  {
   "cell_type": "markdown",
   "metadata": {},
   "source": [
    "So this is a pretty large effect and based on a TINY sample (95% difference after VR therapy)... not sure this is realistic? Speak to Matthew"
   ]
  },
  {
   "cell_type": "code",
   "execution_count": 36,
   "metadata": {},
   "outputs": [
    {
     "name": "stdout",
     "output_type": "stream",
     "text": [
      "Required sample size per group: 19\n"
     ]
    }
   ],
   "source": [
    "# Investigating sample size with an effect of 95% and a power of 80%\n",
    "from statsmodels.stats.power import TTestIndPower\n",
    "\n",
    "# Parameters for power analysis\n",
    "effect_size = 0.95  # effect size based on ethnographic data\n",
    "alpha = 0.05  # The common threshold for significance level\n",
    "power = 0.80  # Desired power aka probability of correctly identifying an effect when there is one 80% of the time - also a medical standard to miss an effect 20% is OK\n",
    "\n",
    "# Perform power analysis\n",
    "analysis = TTestIndPower()\n",
    "sample_size = analysis.solve_power(effect_size=effect_size, alpha=alpha, power=power, ratio=1.0)\n",
    "\n",
    "# Print the required sample size\n",
    "print(f\"Required sample size per group: {int(np.ceil(sample_size))}\")\n"
   ]
  },
  {
   "cell_type": "markdown",
   "metadata": {},
   "source": [
    "# Let's simulate a trial #"
   ]
  },
  {
   "cell_type": "markdown",
   "metadata": {},
   "source": [
    "### First we need to set some parameters for our trial simulation, including, defining the following variables: ###\n",
    "- Number of patients per group: this is pulled from our earlier power calculation \n",
    "- Initial pain scores (mean): derived from the mean pain score from ethnographic data\n",
    "- Initial pain scores (std.dev): derived from the std_dev of pain scores from ethnographic data\n",
    "- Number of simulations: how many times we want to run the trial \n",
    "\n",
    "### We also need to define and take account of (and can adjust) the expected pain reduction from each SOC care treatment ###\n",
    "- CBT \n",
    "- Physio \n",
    "- Pain relief \n",
    "- Support group"
   ]
  },
  {
   "cell_type": "code",
   "execution_count": 67,
   "metadata": {},
   "outputs": [],
   "source": [
    "\n",
    "# Setting parameters for trial simulation\n",
    "n_patients_per_group = 19\n",
    "mean_initial_pain = 5.75 # mean pain score from ethnographic data\n",
    "std_dev_initial_pain = 3.20 # standard deviation of pain scores from ethnographic data\n",
    "effect_size = 0.95 # effect size from ethnographic data\n",
    "n_simulations = 1000\n",
    "\n",
    "# Estimated average pain reduction for each SOC treatment\n",
    "pain_reduction_CBT = 1.0\n",
    "pain_reduction_physio = 0.8\n",
    "pain_reduction_prescription = 1.5\n",
    "pain_reduction_support_group = 0.5\n"
   ]
  },
  {
   "cell_type": "code",
   "execution_count": 68,
   "metadata": {},
   "outputs": [],
   "source": [
    "\n",
    "\n",
    "# Function to simulate the trial\n",
    "def simulate_trial(n_patients_per_group, mean_pain, std_dev, effect_size):\n",
    "    # Generate initial pain scores\n",
    "    initial_pain_scores = np.random.normal(mean_pain, std_dev, n_patients_per_group * 2).round().astype(int)\n",
    "    initial_pain_scores = np.clip(initial_pain_scores, 1, 10)\n",
    "    \n",
    "    # Assign SOC treatments\n",
    "    CBT = np.random.choice([0, 1], size=n_patients_per_group* 2)\n",
    "    physiotherapy = np.random.choice([0, 1], size=n_patients_per_group * 2)\n",
    "    prescription = np.random.choice([0, 1], size=n_patients_per_group * 2)\n",
    "    support_group = np.random.choice([0, 1], size=n_patients_per_group * 2)\n",
    "    \n",
    "    # Calculate SOC effect\n",
    "    SOC_effect = (CBT * pain_reduction_CBT +\n",
    "                  physiotherapy * pain_reduction_physiotherapy +\n",
    "                  prescription * pain_reduction_prescription +\n",
    "                  support_group * pain_reduction_support_group)\n",
    "    \n",
    "    # Apply SOC effect to initial pain scores\n",
    "    adjusted_pain_scores = initial_pain_scores - SOC_effect\n",
    "    adjusted_pain_scores = np.clip(adjusted_pain_scores, 1, 10)\n",
    "    \n",
    "    # Split into control and experimental groups\n",
    "    control_group = adjusted_pain_scores[:n_patients]\n",
    "    experimental_group = adjusted_pain_scores[n_patients:]\n",
    "    \n",
    "    # Apply VR therapy effect to the experimental group\n",
    "    experimental_group -= int(effect_size * std_dev)\n",
    "    experimental_group = np.clip(experimental_group, 1, 10)\n",
    "    \n",
    "    return control_group, experimental_group\n",
    "\n"
   ]
  },
  {
   "cell_type": "markdown",
   "metadata": {},
   "source": [
    "mean_control: the mean pain score for the control group in each simulation \n",
    "mean_experimental: the mean pain score for the experimental group in each simulation\n",
    "mean_difference: the difference between the mean pain scores of experimental and control groups in each simulation"
   ]
  },
  {
   "cell_type": "code",
   "execution_count": 69,
   "metadata": {},
   "outputs": [
    {
     "name": "stderr",
     "output_type": "stream",
     "text": [
      "/Users/rachael/Library/Python/3.9/lib/python/site-packages/numpy/core/fromnumeric.py:3504: RuntimeWarning: Mean of empty slice.\n",
      "  return _methods._mean(a, axis=axis, dtype=dtype,\n",
      "/Users/rachael/Library/Python/3.9/lib/python/site-packages/numpy/core/_methods.py:129: RuntimeWarning: invalid value encountered in scalar divide\n",
      "  ret = ret.dtype.type(ret / rcount)\n"
     ]
    },
    {
     "data": {
      "text/html": [
       "<div>\n",
       "<style scoped>\n",
       "    .dataframe tbody tr th:only-of-type {\n",
       "        vertical-align: middle;\n",
       "    }\n",
       "\n",
       "    .dataframe tbody tr th {\n",
       "        vertical-align: top;\n",
       "    }\n",
       "\n",
       "    .dataframe thead th {\n",
       "        text-align: right;\n",
       "    }\n",
       "</style>\n",
       "<table border=\"1\" class=\"dataframe\">\n",
       "  <thead>\n",
       "    <tr style=\"text-align: right;\">\n",
       "      <th></th>\n",
       "      <th>Mean_Control</th>\n",
       "      <th>Mean_Experimental</th>\n",
       "      <th>Mean_Difference</th>\n",
       "    </tr>\n",
       "  </thead>\n",
       "  <tbody>\n",
       "    <tr>\n",
       "      <th>0</th>\n",
       "      <td>3.610526</td>\n",
       "      <td>NaN</td>\n",
       "      <td>NaN</td>\n",
       "    </tr>\n",
       "    <tr>\n",
       "      <th>1</th>\n",
       "      <td>3.715789</td>\n",
       "      <td>NaN</td>\n",
       "      <td>NaN</td>\n",
       "    </tr>\n",
       "    <tr>\n",
       "      <th>2</th>\n",
       "      <td>3.931579</td>\n",
       "      <td>NaN</td>\n",
       "      <td>NaN</td>\n",
       "    </tr>\n",
       "    <tr>\n",
       "      <th>3</th>\n",
       "      <td>4.602632</td>\n",
       "      <td>NaN</td>\n",
       "      <td>NaN</td>\n",
       "    </tr>\n",
       "    <tr>\n",
       "      <th>4</th>\n",
       "      <td>3.997368</td>\n",
       "      <td>NaN</td>\n",
       "      <td>NaN</td>\n",
       "    </tr>\n",
       "    <tr>\n",
       "      <th>...</th>\n",
       "      <td>...</td>\n",
       "      <td>...</td>\n",
       "      <td>...</td>\n",
       "    </tr>\n",
       "    <tr>\n",
       "      <th>995</th>\n",
       "      <td>4.171053</td>\n",
       "      <td>NaN</td>\n",
       "      <td>NaN</td>\n",
       "    </tr>\n",
       "    <tr>\n",
       "      <th>996</th>\n",
       "      <td>4.200000</td>\n",
       "      <td>NaN</td>\n",
       "      <td>NaN</td>\n",
       "    </tr>\n",
       "    <tr>\n",
       "      <th>997</th>\n",
       "      <td>4.186842</td>\n",
       "      <td>NaN</td>\n",
       "      <td>NaN</td>\n",
       "    </tr>\n",
       "    <tr>\n",
       "      <th>998</th>\n",
       "      <td>3.934211</td>\n",
       "      <td>NaN</td>\n",
       "      <td>NaN</td>\n",
       "    </tr>\n",
       "    <tr>\n",
       "      <th>999</th>\n",
       "      <td>4.484211</td>\n",
       "      <td>NaN</td>\n",
       "      <td>NaN</td>\n",
       "    </tr>\n",
       "  </tbody>\n",
       "</table>\n",
       "<p>1000 rows × 3 columns</p>\n",
       "</div>"
      ],
      "text/plain": [
       "     Mean_Control  Mean_Experimental  Mean_Difference\n",
       "0        3.610526                NaN              NaN\n",
       "1        3.715789                NaN              NaN\n",
       "2        3.931579                NaN              NaN\n",
       "3        4.602632                NaN              NaN\n",
       "4        3.997368                NaN              NaN\n",
       "..            ...                ...              ...\n",
       "995      4.171053                NaN              NaN\n",
       "996      4.200000                NaN              NaN\n",
       "997      4.186842                NaN              NaN\n",
       "998      3.934211                NaN              NaN\n",
       "999      4.484211                NaN              NaN\n",
       "\n",
       "[1000 rows x 3 columns]"
      ]
     },
     "execution_count": 69,
     "metadata": {},
     "output_type": "execute_result"
    }
   ],
   "source": [
    "# Run multiple simulations\n",
    "np.random.seed(42)\n",
    "\n",
    "results = []\n",
    "for i in range(n_simulations):\n",
    "    control, experimental = simulate_trial(n_patients_per_group, mean_initial_pain, std_dev_initial_pain, effect_size)\n",
    "    mean_control = np.mean(control)\n",
    "    mean_experimental = np.mean(experimental)\n",
    "    results.append((mean_control, mean_experimental, mean_experimental - mean_control))\n",
    "\n",
    "# Convert results to DataFrame\n",
    "results_df = pd.DataFrame(results, columns=['Mean_Control', 'Mean_Experimental', 'Mean_Difference'])\n",
    "\n",
    "results_df"
   ]
  },
  {
   "cell_type": "code",
   "execution_count": 70,
   "metadata": {},
   "outputs": [
    {
     "name": "stdout",
     "output_type": "stream",
     "text": [
      "       Mean_Control  Mean_Experimental  Mean_Difference\n",
      "count   1000.000000                0.0              0.0\n",
      "mean       4.101292                NaN              NaN\n",
      "std        0.408984                NaN              NaN\n",
      "min        2.842105                NaN              NaN\n",
      "25%        3.820395                NaN              NaN\n",
      "50%        4.114474                NaN              NaN\n",
      "75%        4.378947                NaN              NaN\n",
      "max        5.665789                NaN              NaN\n"
     ]
    }
   ],
   "source": [
    "# Calculate summary statistics\n",
    "summary_stats = results_df.describe()\n",
    "print(summary_stats)"
   ]
  }
 ],
 "metadata": {
  "kernelspec": {
   "display_name": "Python 3",
   "language": "python",
   "name": "python3"
  },
  "language_info": {
   "codemirror_mode": {
    "name": "ipython",
    "version": 3
   },
   "file_extension": ".py",
   "mimetype": "text/x-python",
   "name": "python",
   "nbconvert_exporter": "python",
   "pygments_lexer": "ipython3",
   "version": "3.9.6"
  }
 },
 "nbformat": 4,
 "nbformat_minor": 2
}
